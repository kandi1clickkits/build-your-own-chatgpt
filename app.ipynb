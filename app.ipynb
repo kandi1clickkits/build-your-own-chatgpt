{
 "cells": [
  {
   "cell_type": "code",
   "execution_count": 1,
   "id": "58f204fc",
   "metadata": {},
   "outputs": [],
   "source": [
    "import os\n",
    "import openai\n",
    "import gradio as gr"
   ]
  },
  {
   "cell_type": "code",
   "execution_count": 2,
   "id": "d7f93b52",
   "metadata": {},
   "outputs": [],
   "source": [
    "#if you have OpenAI API key as a string, enable the below\n",
    "openai.api_key = \"XXXXXXXXXXXX\"\n",
    "\n",
    "start_sequence = \"\\nAI:\"\n",
    "restart_sequence = \"\\nHuman: \"\n"
   ]
  },
  {
   "cell_type": "code",
   "execution_count": 3,
   "id": "cc5c7b94",
   "metadata": {},
   "outputs": [],
   "source": [
    "prompt = \"The following is a conversation with an AI assistant. The assistant is helpful, creative, clever, and very friendly.\\n\\nHuman: Hello, who are you?\\nAI: I am an AI created by OpenAI. How can I help you today?\\nHuman: \""
   ]
  },
  {
   "cell_type": "code",
   "execution_count": 4,
   "id": "5dda52b7",
   "metadata": {},
   "outputs": [],
   "source": [
    "def openai_create(prompt):\n",
    "\n",
    "    response = openai.Completion.create(\n",
    "    model=\"text-davinci-003\",\n",
    "    prompt=prompt,\n",
    "    temperature=0.9,\n",
    "    max_tokens=150,\n",
    "    top_p=1,\n",
    "    frequency_penalty=0,\n",
    "    presence_penalty=0.6,\n",
    "    stop=[\" Human:\", \" AI:\"]\n",
    "    )\n",
    "\n",
    "    return response.choices[0].text"
   ]
  },
  {
   "cell_type": "code",
   "execution_count": 5,
   "id": "a19eb6dc",
   "metadata": {},
   "outputs": [],
   "source": [
    "def chatgpt_clone(input, history):\n",
    "    history = history or []\n",
    "    s = list(sum(history, ()))\n",
    "    s.append(input)\n",
    "    inp = ' '.join(s)\n",
    "    output = openai_create(inp)\n",
    "    history.append((input, output))\n",
    "    return history, history"
   ]
  },
  {
   "cell_type": "code",
   "execution_count": 6,
   "id": "3da310e0",
   "metadata": {},
   "outputs": [],
   "source": [
    "block = gr.Blocks()"
   ]
  },
  {
   "cell_type": "code",
   "execution_count": 7,
   "id": "db29e052",
   "metadata": {},
   "outputs": [],
   "source": [
    "with block:\n",
    "    gr.Markdown(\"\"\"<h1><center>Build Your own ChatGPT with OpenAI API & Gradio</center></h1>\n",
    "    \"\"\")\n",
    "    chatbot = gr.Chatbot()\n",
    "    message = gr.Textbox(placeholder=prompt)\n",
    "    state = gr.State()\n",
    "    submit = gr.Button(\"SEND\")\n",
    "    submit.click(chatgpt_clone, inputs=[message, state], outputs=[chatbot, state])"
   ]
  },
  {
   "cell_type": "code",
   "execution_count": null,
   "id": "7b3daeaf",
   "metadata": {},
   "outputs": [],
   "source": [
    "block.launch(debug = True)"
   ]
  }
 ],
 "metadata": {
  "kernelspec": {
   "display_name": "Python 3 (ipykernel)",
   "language": "python",
   "name": "python3"
  },
  "language_info": {
   "codemirror_mode": {
    "name": "ipython",
    "version": 3
   },
   "file_extension": ".py",
   "mimetype": "text/x-python",
   "name": "python",
   "nbconvert_exporter": "python",
   "pygments_lexer": "ipython3",
   "version": "3.7.4"
  }
 },
 "nbformat": 4,
 "nbformat_minor": 5
}
